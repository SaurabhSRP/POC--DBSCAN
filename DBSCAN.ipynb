{
  "nbformat": 4,
  "nbformat_minor": 0,
  "metadata": {
    "colab": {
      "name": "DBSCAN.ipynb",
      "provenance": [],
      "collapsed_sections": [],
      "authorship_tag": "ABX9TyOuoPY6y6pEK+9nnthmnFsv",
      "include_colab_link": true
    },
    "kernelspec": {
      "name": "python3",
      "display_name": "Python 3"
    },
    "language_info": {
      "name": "python"
    }
  },
  "cells": [
    {
      "cell_type": "markdown",
      "metadata": {
        "id": "view-in-github",
        "colab_type": "text"
      },
      "source": [
        "<a href=\"https://colab.research.google.com/github/SaurabhSRP/POC--DBSCAN/blob/main/DBSCAN.ipynb\" target=\"_parent\"><img src=\"https://colab.research.google.com/assets/colab-badge.svg\" alt=\"Open In Colab\"/></a>"
      ]
    },
    {
      "cell_type": "code",
      "execution_count": 1,
      "metadata": {
        "id": "XEfC6OYBDjEA"
      },
      "outputs": [],
      "source": [
        "# Importing the libraries\n",
        "import numpy as np\n",
        "import pandas as pd\n"
      ]
    },
    {
      "cell_type": "code",
      "source": [
        "# Importing the dataset\n",
        "dataset = pd.read_csv('https://raw.githubusercontent.com/SaurabhSRP/POC--DBSCAN/main/Mall_Customers.csv')\n",
        "X = dataset.iloc[:, [3, 4]].values"
      ],
      "metadata": {
        "id": "q6QmZB1tEq20"
      },
      "execution_count": 2,
      "outputs": []
    },
    {
      "cell_type": "code",
      "source": [
        "# Using the elbow method to find the optimal number of clusters\n",
        "from sklearn.cluster import DBSCAN\n",
        "dbscan=DBSCAN(eps=3,min_samples=4)"
      ],
      "metadata": {
        "id": "E36H_S88ExPD"
      },
      "execution_count": 3,
      "outputs": []
    },
    {
      "cell_type": "code",
      "source": [
        "# Fitting the model\n",
        "\n",
        "model=dbscan.fit(X)\n",
        "\n",
        "labels=model.labels_"
      ],
      "metadata": {
        "id": "3u1O_tkhEzwG"
      },
      "execution_count": 4,
      "outputs": []
    },
    {
      "cell_type": "code",
      "source": [
        "from sklearn import metrics\n",
        "\n",
        "#identifying the points which makes up our core points\n",
        "sample_cores=np.zeros_like(labels,dtype=bool)\n",
        "\n",
        "sample_cores[dbscan.core_sample_indices_]=True\n",
        "\n",
        "#Calculating the number of clusters\n",
        "\n",
        "n_clusters=len(set(labels))- (1 if -1 in labels else 0)\n",
        "\n",
        "\n",
        "\n",
        "print(metrics.silhouette_score(X,labels))\n"
      ],
      "metadata": {
        "colab": {
          "base_uri": "https://localhost:8080/"
        },
        "id": "epegEVPtE2JV",
        "outputId": "3ea965b4-f9b4-4f9b-f572-a2490ad8a69a"
      },
      "execution_count": 5,
      "outputs": [
        {
          "output_type": "stream",
          "name": "stdout",
          "text": [
            "-0.1908319132560097\n"
          ]
        }
      ]
    },
    {
      "cell_type": "code",
      "source": [
        ""
      ],
      "metadata": {
        "id": "oF8VlhaKE5Hg"
      },
      "execution_count": null,
      "outputs": []
    }
  ]
}